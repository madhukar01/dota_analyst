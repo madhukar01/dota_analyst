{
  "cells": [
    {
      "cell_type": "code",
      "execution_count": null,
      "metadata": {},
      "outputs": [],
      "source": [
        "import numpy as np\n",
        "import matplotlib.pyplot as plt\n",
        "import pandas as pd\n",
        "import seaborn as sns"
      ]
    },
    {
      "cell_type": "code",
      "execution_count": null,
      "metadata": {},
      "outputs": [],
      "source": [
        "# load data\n",
        "df = pd.read_csv(\"parsed_data.csv\")\n",
        "\n",
        "# pick the following columns\n",
        "# teams = [\"dire\", \"radiant\"]\n",
        "positions = [\"1\", \"2\", \"3\", \"4\", \"5\"]\n",
        "# times = [\"5\", \"10\", \"15\", \"20\"]\n",
        "times = [\"10\"]\n",
        "\n",
        "# statistic columns\n",
        "player_stats_params = [\"networth\", \"xpm\", \"kills\"]\n",
        "stats_key = \"position_{pos}_{param}_{time}\"\n",
        "\n",
        "radiant_columns = {}\n",
        "dire_columns = {}\n",
        "player_stats_columns = []\n",
        "\n",
        "# create the column names to rename\n",
        "for pos in positions:\n",
        "    for param in player_stats_params:\n",
        "        for time in times:\n",
        "            col_name = stats_key.format(pos=pos, param=param, time=time)\n",
        "            radiant_col_name = f\"radiant_{col_name}\"\n",
        "            dire_col_name = f\"dire_{col_name}\"\n",
        "            radiant_columns[radiant_col_name] = col_name\n",
        "            dire_columns[dire_col_name] = col_name\n",
        "\n",
        "            player_stats_columns.append(col_name)\n",
        "\n",
        "# split the data into two halves randomly\n",
        "winner_data = df.sample(frac=0.5, random_state=0)\n",
        "loser_data = df.drop(winner_data.index)\n",
        "\n",
        "# rename columns and drop opponent data\n",
        "radiant_winner = winner_data[winner_data[\"winner\"] == \"radiant\"]\n",
        "radiant_winner = radiant_winner[radiant_columns.keys()]\n",
        "radiant_winner = radiant_winner.rename(columns=radiant_columns)\n",
        "\n",
        "dire_winner = winner_data[winner_data[\"winner\"] == \"dire\"]\n",
        "dire_winner = dire_winner[dire_columns.keys()]\n",
        "dire_winner = dire_winner.rename(columns=dire_columns)\n",
        "\n",
        "winner_data = pd.concat([radiant_winner, dire_winner], axis=0)\n",
        "# winner_data[\"result\"] = 1\n",
        "\n",
        "radiant_loser = loser_data[loser_data[\"winner\"] == \"dire\"]\n",
        "radiant_loser = radiant_loser[radiant_columns.keys()]\n",
        "radiant_loser = radiant_loser.rename(columns=radiant_columns)\n",
        "\n",
        "dire_loser = loser_data[loser_data[\"winner\"] == \"radiant\"]\n",
        "dire_loser = dire_loser[dire_columns.keys()]\n",
        "dire_loser = dire_loser.rename(columns=dire_columns)\n",
        "\n",
        "loser_data = pd.concat([radiant_loser, dire_loser], axis=0)\n",
        "# loser_data[\"result\"] = 0\n",
        "\n",
        "# combine data\n",
        "# dota_data = pd.concat([winner_data, loser_data], axis=0)\n",
        "# dota_data[\"result\"] = dota_data[\"result\"].astype(\"category\")\n",
        "# dota_data.describe()"
      ]
    },
    {
      "cell_type": "markdown",
      "metadata": {},
      "source": [
        "### Basic statistics"
      ]
    },
    {
      "cell_type": "code",
      "execution_count": null,
      "metadata": {},
      "outputs": [],
      "source": [
        "# statistics of the winner\n",
        "print(winner_data.describe(include=\"all\"))"
      ]
    },
    {
      "cell_type": "code",
      "execution_count": null,
      "metadata": {},
      "outputs": [],
      "source": [
        "# statistics of the loser\n",
        "print(loser_data.describe(include=\"all\"))"
      ]
    },
    {
      "cell_type": "markdown",
      "metadata": {},
      "source": [
        "**Skewness**\n",
        "- Zero: symmetric, normal distribution\n",
        "- Positive: right skewed\n",
        "- Negative: left skewed\n",
        "\n",
        "**Kurtosis**\n",
        "- Zero: thin tails, normal distribution\n",
        "- Positive: fat tails, sharp peak\n",
        "- Negative: thin tails, flat peak"
      ]
    },
    {
      "cell_type": "code",
      "execution_count": null,
      "metadata": {},
      "outputs": [],
      "source": [
        "# skewness and kurtosis of winner\n",
        "skewness = winner_data.skew().rename(\"skewness\")\n",
        "kurtosis = winner_data.kurt().rename(\"kurtosis\")\n",
        "winner_skew_kurt = pd.concat([skewness, kurtosis], axis=1)\n",
        "print(winner_skew_kurt)"
      ]
    },
    {
      "cell_type": "code",
      "execution_count": null,
      "metadata": {},
      "outputs": [],
      "source": [
        "# skewness and kurtosis of loser\n",
        "skewness = loser_data.skew().rename(\"skewness\")\n",
        "kurtosis = loser_data.kurt().rename(\"kurtosis\")\n",
        "loser_skew_kurt = pd.concat([skewness, kurtosis], axis=1)\n",
        "print(loser_skew_kurt)"
      ]
    },
    {
      "cell_type": "markdown",
      "metadata": {},
      "source": [
        "### Plots"
      ]
    },
    {
      "cell_type": "code",
      "execution_count": null,
      "metadata": {},
      "outputs": [],
      "source": [
        "winner_copy = winner_data.copy(deep=True)\n",
        "loser_copy = loser_data.copy(deep=True)\n",
        "\n",
        "\n",
        "\n",
        "for time in times:\n",
        "    for param in player_stats_params:\n",
        "        fix, axs = plt.subplots(5, 2, figsize=(20, 30))\n",
        "        for idx, pos in enumerate(positions):\n",
        "            col = f\"position_{pos}_{param}_{time}\"\n",
        "\n",
        "            # logarithmic normalization for skewed data\n",
        "            # winner_copy[col] = np.log(winner_copy[col] + 1)\n",
        "            # loser_copy[col] = np.log(loser_copy[col] + 1)\n",
        "\n",
        "            # standard normalization\n",
        "            # winner_copy[col] = (\n",
        "            #     winner_copy[col] - winner_copy[stats_key].mean()\n",
        "            # ) / winner_copy[col].std()\n",
        "\n",
        "            # loser_copy[col] = (\n",
        "            #     loser_copy[col] - loser_copy[stats_key].mean()\n",
        "            # ) / loser_copy[col].std()\n",
        "\n",
        "            ax = axs[idx, 0]\n",
        "            sns.histplot(winner_copy[col], ax=ax)\n",
        "            ax.set_title(\"Winning Team\")\n",
        "            ax.axvline(\n",
        "                winner_copy[col].mean(),\n",
        "                color=\"red\",\n",
        "                linestyle=\"dashed\",\n",
        "                linewidth=2,\n",
        "            )\n",
        "\n",
        "            ax = axs[idx, 1]\n",
        "            sns.histplot(loser_copy[col], ax=ax)\n",
        "            ax.set_title(\"Losing Team\")\n",
        "            ax.axvline(\n",
        "                loser_copy[col].mean(),\n",
        "                color=\"red\",\n",
        "                linestyle=\"dashed\",\n",
        "                linewidth=2,\n",
        "            )\n",
        "\n",
        "        plt.tight_layout()\n",
        "        plt.show()\n",
        "\n",
        "\n",
        "# for idx, col in enumerate(player_stats_columns):\n",
        "# logarithmic normalization for skewed data\n",
        "\n",
        "\n",
        "# winner_copy[col] = np.log(winner_copy[col] + 1)\n",
        "# loser_copy[col] = np.log(loser_copy[col] + 1)\n",
        "\n",
        "\n",
        "\n",
        "# standard normalization\n",
        "# winner_copy[col] = (\n",
        "#     winner_copy[col] - winner_copy[col].mean()\n",
        "# ) / winner_copy[col].std()\n",
        "# loser_copy[col] = (loser_copy[col] - loser_copy[col].mean()) / loser_copy[\n",
        "#     col\n",
        "# ].std()\n",
        "\n",
        "# plot winner and loser data side by side"
      ]
    }
  ],
  "metadata": {
    "kernelspec": {
      "display_name": ".venv",
      "language": "python",
      "name": "python3"
    },
    "language_info": {
      "codemirror_mode": {
        "name": "ipython",
        "version": 3
      },
      "file_extension": ".py",
      "mimetype": "text/x-python",
      "name": "python",
      "nbconvert_exporter": "python",
      "pygments_lexer": "ipython3",
      "version": "3.10.11"
    }
  },
  "nbformat": 4,
  "nbformat_minor": 2
}
